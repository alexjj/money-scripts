{
 "cells": [
  {
   "cell_type": "code",
   "execution_count": null,
   "metadata": {},
   "outputs": [],
   "source": [
    "import pandas as pd"
   ]
  },
  {
   "cell_type": "code",
   "execution_count": null,
   "metadata": {},
   "outputs": [],
   "source": [
    "# TODO Onedrive SDK - https://github.com/onedrive/onedrive-sdk-python\n",
    "excel = pd.ExcelFile('/data/docs/cabinet/Finance/money.xlsx')"
   ]
  },
  {
   "cell_type": "code",
   "execution_count": null,
   "metadata": {},
   "outputs": [],
   "source": [
    "uktxns = excel.parse('UK')\n",
    "ustxns = excel.parse('US')"
   ]
  },
  {
   "cell_type": "code",
   "execution_count": null,
   "metadata": {},
   "outputs": [],
   "source": [
    "#Drop any transaction prior to this date\n",
    "cutoffdate = '2018-01-01'"
   ]
  },
  {
   "cell_type": "code",
   "execution_count": null,
   "metadata": {},
   "outputs": [],
   "source": [
    "def tidyxacts(df):\n",
    "    df['Date'] = pd.to_datetime(df['Date'])\n",
    "    df['Inflow'] = pd.to_numeric(df['Inflow'])\n",
    "    df['Outflow'] = pd.to_numeric(df['Outflow'])\n",
    "    df['Inflow'] = df['Inflow'].fillna(0)\n",
    "    df['Outflow'] = df['Outflow'].fillna(0)\n",
    "    df['Net'] = df['Inflow'] - df['Outflow']\n",
    "    df.drop(['Inflow', 'Outflow'], axis=1)\n",
    "    df = df[df.Date > cutoffdate]"
   ]
  },
  {
   "cell_type": "code",
   "execution_count": null,
   "metadata": {},
   "outputs": [],
   "source": [
    "tidyxacts(uktxns)"
   ]
  },
  {
   "cell_type": "code",
   "execution_count": null,
   "metadata": {},
   "outputs": [],
   "source": [
    "uktxns.drop(['Inflow', 'Outflow'], axis=1)"
   ]
  },
  {
   "cell_type": "code",
   "execution_count": null,
   "metadata": {},
   "outputs": [],
   "source": [
    "gb = uktxns.groupby('Account')"
   ]
  },
  {
   "cell_type": "code",
   "execution_count": null,
   "metadata": {},
   "outputs": [],
   "source": [
    "names = {'HSBC Current': 'Assets:UK:HSBC:Current',\n",
    "         'Tesco CC': 'Liabilities:UK:Tesco',\n",
    "         'Nationwide': 'Assets:UK:Nationwide', \n",
    "         zxcv brg\n",
    "        }"
   ]
  },
  {
   "cell_type": "code",
   "execution_count": null,
   "metadata": {},
   "outputs": [],
   "source": [
    "for account, group in gb:\n",
    "    filename = account + \"beancount\"\n",
    "    liability_line = '    ' + names[account] + '\\n'"
   ]
  }
 ],
 "metadata": {
  "kernelspec": {
   "display_name": "Python 3",
   "language": "python",
   "name": "python3"
  },
  "language_info": {
   "codemirror_mode": {
    "name": "ipython",
    "version": 3
   },
   "file_extension": ".py",
   "mimetype": "text/x-python",
   "name": "python",
   "nbconvert_exporter": "python",
   "pygments_lexer": "ipython3",
   "version": "3.7.0"
  }
 },
 "nbformat": 4,
 "nbformat_minor": 2
}
