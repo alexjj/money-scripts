{
 "cells": [
  {
   "cell_type": "code",
   "execution_count": null,
   "metadata": {},
   "outputs": [],
   "source": [
    "import pandas as pd\n",
    "import numpy as np\n",
    "import datetime\n",
    "import matplotlib.pyplot as plt\n",
    "\n",
    "# read Excel\n",
    "excel = pd.ExcelFile('~/onedrive/Documents/Money1.2.xlsx')\n",
    "\n",
    "uk = excel.parse('UK')\n",
    "us = excel.parse('US')\n",
    "\n",
    "def tidyxacts(df):\n",
    "    df['Date'] = pd.to_datetime(df['Date'])\n",
    "    df['Inflow'] = pd.to_numeric(df['Inflow'])\n",
    "    df['Outflow'] = pd.to_numeric(df['Outflow'])\n",
    "    df['Net'] = pd.to_numeric(df['Net'])\n",
    "\n",
    "def add_date_info(df):\n",
    "    \"\"\"\n",
    "    Adds columns for year, month, quarter, week number\n",
    "    \"\"\"\n",
    "    df['Year'], df['Month'] = df['Date'].dt.year, df['Date'].dt.month\n",
    "    df['Quarter'], df['Week'] = df['Date'].dt.quarter, df['Date'].dt.week\n",
    "\n",
    "def money_usd(x):\n",
    "    \"\"\"\n",
    "    Format like money\n",
    "    \"\"\"\n",
    "    return \"${:,.2f}\".format(x)\n",
    "    \n",
    "def money_gbp(x):\n",
    "    \"\"\"\n",
    "    Format like money\n",
    "    \"\"\"\n",
    "    return \"£{:,.2f}\".format(x)\n",
    "    \n",
    "tidyxacts(uk)\n",
    "add_date_info(uk)\n",
    "tidyxacts(us)\n",
    "add_date_info(us)\n",
    "\n",
    "\"\"\"\n",
    "Weekly\n",
    "\n",
    "    Top 10 expenses that week\n",
    "    Balance of main accounts\n",
    "    Week on week change\n",
    "    Date of last update (or most recent transaction)\n",
    "\n",
    "\"\"\"\n",
    "\n",
    "today = datetime.date.today()\n",
    "\n",
    "\n",
    "#table = pd.pivot_table(df,index=[\"Currency\",\"Master Category\",\"Sub Category\"], columns=[\"Year\",\"Month\"], values=[\"Net\"],aggfunc=np.sum,fill_value=0,margins=True)\n",
    "\n",
    "#table.query('Currency == [\"GBP\"]')"
   ]
  },
  {
   "cell_type": "code",
   "execution_count": null,
   "metadata": {},
   "outputs": [],
   "source": []
  },
  {
   "cell_type": "raw",
   "metadata": {},
   "source": [
    "# Sum whole column\n",
    "money_gbp(uk['Net'].sum())\n",
    "# Top 10\n",
    "uk['Outflow'].nlargest(10)"
   ]
  },
  {
   "cell_type": "code",
   "execution_count": null,
   "metadata": {},
   "outputs": [],
   "source": [
    "# Set date as index, then can slice on it\n",
    "uk2 = uk.set_index(['Date'])\n",
    "uk2[\"2015-Jan-1\":\"2015-Feb-1\"].head()"
   ]
  },
  {
   "cell_type": "code",
   "execution_count": null,
   "metadata": {},
   "outputs": [],
   "source": [
    "# Just June 2016\n",
    "uk2[\"2016-Jun\"].head()"
   ]
  },
  {
   "cell_type": "code",
   "execution_count": null,
   "metadata": {},
   "outputs": [],
   "source": [
    "pd.pivot_table(uk,index=[\"Account\"], values=[\"Net\"],aggfunc=np.sum)"
   ]
  },
  {
   "cell_type": "code",
   "execution_count": null,
   "metadata": {},
   "outputs": [],
   "source": [
    "pd.pivot_table(uk,index=[\"Master Category\",\"Sub Category\"], columns=[\"Year\",\"Month\"], values=[\"Net\"],aggfunc=np.sum,fill_value=0,margins=True)"
   ]
  }
 ],
 "metadata": {
  "kernelspec": {
   "display_name": "Python 3",
   "language": "python",
   "name": "python3"
  },
  "language_info": {
   "codemirror_mode": {
    "name": "ipython",
    "version": 3
   },
   "file_extension": ".py",
   "mimetype": "text/x-python",
   "name": "python",
   "nbconvert_exporter": "python",
   "pygments_lexer": "ipython3",
   "version": "3.7.0"
  }
 },
 "nbformat": 4,
 "nbformat_minor": 2
}
