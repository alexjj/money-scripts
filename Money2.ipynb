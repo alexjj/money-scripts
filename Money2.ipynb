{
 "cells": [
  {
   "cell_type": "code",
   "execution_count": null,
   "metadata": {},
   "outputs": [],
   "source": [
    "# To Save back\n",
    "# http://www.countingcalculi.com/explanations/google_sheets_and_jupyter_notebooks/\n",
    "# from df2gspread import df2gspread as d2g\n",
    "# wks_name = 'Jupyter Manipulated Data'\n",
    "# d2g.upload(df, spreadsheet_key, wks_name, credentials=credentials, row_names=True)"
   ]
  },
  {
   "cell_type": "code",
   "execution_count": null,
   "metadata": {},
   "outputs": [],
   "source": [
    "import pandas as pd\n",
    "import numpy as np\n",
    "import gspread\n",
    "from oauth2client.service_account import ServiceAccountCredentials\n",
    "import matplotlib.pyplot as plt\n",
    "import seaborn as sns\n",
    "from IPython.display import display, HTML\n",
    "# use Seaborn styles\n",
    "%matplotlib inline\n",
    "sns.set() "
   ]
  },
  {
   "cell_type": "code",
   "execution_count": null,
   "metadata": {},
   "outputs": [],
   "source": [
    "# Authorise with Google Docs\n",
    "scope = ['https://spreadsheets.google.com/feeds']\n",
    "credentials = ServiceAccountCredentials.from_json_keyfile_name('/data/docs/JupyterSheets.json', scope)\n",
    "gc = gspread.authorize(credentials)"
   ]
  },
  {
   "cell_type": "code",
   "execution_count": null,
   "metadata": {},
   "outputs": [],
   "source": [
    "# Load Spreadsheet\n",
    "spreadsheet_key = '1KQwNxNVYJ21K1LrDcAddEj1_yxSWlxVpc6xS9z542yY'\n",
    "book = gc.open_by_key(spreadsheet_key)\n",
    "uk = pd.DataFrame(book.worksheet(\"UKTxns\").get_all_records())\n",
    "us = pd.DataFrame(book.worksheet(\"USTxns\").get_all_records())"
   ]
  },
  {
   "cell_type": "code",
   "execution_count": null,
   "metadata": {},
   "outputs": [],
   "source": [
    "def sort_tables(df):\n",
    "    cols = ['Account', 'Date', 'Payee', 'Type', 'Category', 'Memo', 'Outflow', 'Inflow', 'Net']\n",
    "    df['Date'] = pd.to_datetime(df['Date'])\n",
    "    df['Inflow'] = pd.to_numeric(df['Inflow'])\n",
    "    df['Outflow'] = pd.to_numeric(df['Outflow'])\n",
    "    df['Inflow'].fillna(value=0, inplace=True)\n",
    "    df['Outflow'].fillna(value=0, inplace=True)\n",
    "    df['Net'] = df['Inflow'] - df ['Outflow']\n",
    "    #df['Net'] = pd.to_numeric(df['Net'])\n",
    "    df = df[cols]\n",
    "    return df"
   ]
  },
  {
   "cell_type": "code",
   "execution_count": null,
   "metadata": {},
   "outputs": [],
   "source": [
    "def add_date_info(df):\n",
    "    \"\"\"\n",
    "    Adds columns for year, month, quarter, week number\n",
    "    \"\"\"\n",
    "    df['Year'], df['Month'] = df['Date'].dt.year, df['Date'].dt.month\n",
    "    df['Quarter'], df['Week'] = df['Date'].dt.quarter, df['Date'].dt.week\n",
    "    #df['Year'] = df['Year'].astype('int')\n",
    "    #df['Month'] = df['Month'].astype('int')\n",
    "    #df['Week'] = df['Week'].astype('int')\n",
    "    #df['Quarter'] = df['Quarter'].astype('int')"
   ]
  },
  {
   "cell_type": "code",
   "execution_count": null,
   "metadata": {},
   "outputs": [],
   "source": [
    "sort_tables(uk)\n",
    "add_date_info(uk)\n",
    "#cols = ['Account', 'Date', 'Payee', 'Type', 'Category', 'Memo', 'Outflow', 'Inflow', 'Net']\n",
    "#UK = UK[cols]"
   ]
  },
  {
   "cell_type": "code",
   "execution_count": null,
   "metadata": {},
   "outputs": [],
   "source": [
    "cols = ['Account', 'Date', 'Payee', 'Type', 'Category', 'Memo', 'Outflow', 'Inflow', 'Net']\n",
    "uk = uk[cols]\n",
    "add_date_info(uk)"
   ]
  },
  {
   "cell_type": "code",
   "execution_count": null,
   "metadata": {},
   "outputs": [],
   "source": [
    "uk.head()"
   ]
  },
  {
   "cell_type": "code",
   "execution_count": null,
   "metadata": {},
   "outputs": [],
   "source": [
    "def f(row):\n",
    "    expenses = ['Expense', 'NBC', 'Expat']\n",
    "    if row['Type'] in expenses:\n",
    "        val = 'Expense'\n",
    "    else:\n",
    "        val = row['Type']\n",
    "    return val"
   ]
  },
  {
   "cell_type": "code",
   "execution_count": null,
   "metadata": {},
   "outputs": [],
   "source": [
    "filtered = uk.query('Type != \"Transfer\" & Year != \"2014\"')\n",
    "uktype = pd.pivot_table(filtered, index='Type', columns='Year', values='Net',\n",
    "                        aggfunc=sum, fill_value=0, margins=True)\n",
    "uktype\n",
    "#uktype.loc['Expenses'] = uktype.loc['Expense'] + uktype.loc['Expat'] + uktype.loc['NBC']\n",
    "#uktype"
   ]
  },
  {
   "cell_type": "code",
   "execution_count": null,
   "metadata": {},
   "outputs": [],
   "source": [
    "sort_tables(us)\n",
    "cols = ['Account', 'Date', 'Payee', 'Type', 'Category', 'Memo', 'Outflow', 'Inflow', 'Net']\n",
    "us = us[cols]\n",
    "add_date_info(us)\n",
    "us_spend = pd.pivot_table(us.query('Type == \"Expense\"'), index='Category', columns='Year',\n",
    "                                  values='Net', aggfunc=sum, fill_value=0)\n",
    "print(us_spend)\n",
    "us_spend.plot(kind='bar')"
   ]
  },
  {
   "cell_type": "code",
   "execution_count": null,
   "metadata": {},
   "outputs": [],
   "source": [
    "def us_annual_summary(df, year):\n",
    "    filtered = df[df[\"Year\"] == year]\n",
    "    return pd.pivot_table(filtered.query('Type == \"Expense\"'), index='Category', columns=['Year', 'Month'],\n",
    "                                  values='Net', aggfunc=sum, fill_value=0)"
   ]
  },
  {
   "cell_type": "code",
   "execution_count": null,
   "metadata": {},
   "outputs": [],
   "source": [
    "years = [2018, 2017, 2016, 2015]\n",
    "for year in years:\n",
    "    display(us_annual_summary(us, year))"
   ]
  }
 ],
 "metadata": {
  "kernelspec": {
   "display_name": "Python 3",
   "language": "python",
   "name": "python3"
  },
  "language_info": {
   "codemirror_mode": {
    "name": "ipython",
    "version": 3
   },
   "file_extension": ".py",
   "mimetype": "text/x-python",
   "name": "python",
   "nbconvert_exporter": "python",
   "pygments_lexer": "ipython3",
   "version": "3.7.0"
  }
 },
 "nbformat": 4,
 "nbformat_minor": 2
}
