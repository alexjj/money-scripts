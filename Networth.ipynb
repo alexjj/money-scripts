{
 "cells": [
  {
   "cell_type": "code",
   "execution_count": 18,
   "metadata": {
    "collapsed": true
   },
   "outputs": [],
   "source": [
    "import collections\n",
    "import datetime\n",
    "import time\n",
    "\n",
    "from dateutil import rrule\n",
    "from dateutil.parser import parse\n",
    "import matplotlib.pyplot as plt\n",
    "from matplotlib.ticker import FuncFormatter\n",
    "\n",
    "from beancount.core import data\n",
    "from beancount.ops import holdings\n",
    "from beancount import loader\n",
    "from beancount.reports import holdings_reports\n",
    "\n",
    "plt.style.use('ggplot')"
   ]
  },
  {
   "cell_type": "code",
   "execution_count": 3,
   "metadata": {
    "collapsed": true
   },
   "outputs": [],
   "source": [
    "filename = '/home/alex/finance/money.beancount'"
   ]
  },
  {
   "cell_type": "code",
   "execution_count": 4,
   "metadata": {
    "collapsed": true
   },
   "outputs": [],
   "source": [
    "entries, errors, options_map = loader.load_file(filename)"
   ]
  },
  {
   "cell_type": "code",
   "execution_count": 5,
   "metadata": {
    "collapsed": true
   },
   "outputs": [],
   "source": [
    "for entry in entries:\n",
    "    if isinstance(entry, data.Transaction):\n",
    "        dtstart = entry.date\n",
    "        break"
   ]
  },
  {
   "cell_type": "code",
   "execution_count": 8,
   "metadata": {},
   "outputs": [],
   "source": [
    "net_worths_dict = collections.defaultdict(list)\n",
    "index = 0\n",
    "current_entries = []\n",
    "dtend = datetime.date.today()\n",
    "period = rrule.rrule(rrule.WEEKLY, byweekday=rrule.FR, dtstart=dtstart, until=dtend)"
   ]
  },
  {
   "cell_type": "code",
   "execution_count": 9,
   "metadata": {
    "collapsed": true
   },
   "outputs": [],
   "source": [
    "    for dtime in period:\n",
    "        date = dtime.date()\n",
    "        logging.info(date)\n",
    "\n",
    "        # Append new entries until the given date.\n",
    "        while True:\n",
    "            entry = entries[index]\n",
    "            if entry.date >= date:\n",
    "                break\n",
    "            current_entries.append(entry)\n",
    "            index += 1\n",
    "\n",
    "        # Get the list of holdings.\n",
    "        raw_holdings_list, price_map = holdings_reports.get_assets_holdings(current_entries,\n",
    "                                                                            options_map)\n",
    "\n",
    "        # Convert the currencies.\n",
    "        for currency in options_map['operating_currency']:\n",
    "            holdings_list = holdings.convert_to_currency(price_map,\n",
    "                                                         currency,\n",
    "                                                         raw_holdings_list)\n",
    "\n",
    "            holdings_list = holdings.aggregate_holdings_by(\n",
    "                holdings_list, lambda holding: holding.cost_currency)\n",
    "\n",
    "            holdings_list = [holding\n",
    "                             for holding in holdings_list\n",
    "                             if holding.currency and holding.cost_currency]\n",
    "\n",
    "            # If after conversion there are no valid holdings, skip the currency\n",
    "            # altogether.\n",
    "            if not holdings_list:\n",
    "                continue\n",
    "\n",
    "            net_worths_dict[currency].append((date, holdings_list[0].market_value))"
   ]
  },
  {
   "cell_type": "code",
   "execution_count": 28,
   "metadata": {},
   "outputs": [
    {
     "data": {
      "image/png": "[encoded data removed]",
      "text/plain": [
       "<matplotlib.figure.Figure at 0x7f2028332470>"
      ]
     },
     "metadata": {},
     "output_type": "display_data"
    }
   ],
   "source": [
    "lists = net_worths_dict['GBP']\n",
    "x, y = zip(*lists)\n",
    "\n",
    "#fig, ax = plt.subplots()\n",
    "\n",
    "plt.plot(x, y)\n",
    "plt.show()"
   ]
  }
 ],
 "metadata": {
  "kernelspec": {
   "display_name": "Python 3",
   "language": "python",
   "name": "python3"
  },
  "language_info": {
   "codemirror_mode": {
    "name": "ipython",
    "version": 3
   },
   "file_extension": ".py",
   "mimetype": "text/x-python",
   "name": "python",
   "nbconvert_exporter": "python",
   "pygments_lexer": "ipython3",
   "version": "3.6.1"
  }
 },
 "nbformat": 4,
 "nbformat_minor": 2
}
