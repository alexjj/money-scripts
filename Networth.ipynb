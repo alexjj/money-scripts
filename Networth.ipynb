{
 "cells": [
  {
   "cell_type": "code",
   "execution_count": null,
   "metadata": {},
   "outputs": [],
   "source": [
    "import collections\n",
    "import datetime\n",
    "import time\n",
    "import pandas as pd\n",
    "\n",
    "from dateutil import rrule\n",
    "from dateutil.parser import parse\n",
    "import matplotlib.pyplot as plt\n",
    "from matplotlib.ticker import FuncFormatter\n",
    "\n",
    "from beancount.core import data\n",
    "from beancount.ops import holdings\n",
    "from beancount import loader\n",
    "from beancount.reports import holdings_reports\n",
    "\n",
    "plt.style.use('ggplot')"
   ]
  },
  {
   "cell_type": "code",
   "execution_count": null,
   "metadata": {},
   "outputs": [],
   "source": [
    "# Load beancount file\n",
    "\n",
    "filename = '/home/alex/finance/money.beancount'\n",
    "entries, errors, options_map = loader.load_file(filename)"
   ]
  },
  {
   "cell_type": "code",
   "execution_count": null,
   "metadata": {},
   "outputs": [],
   "source": [
    "#for entry in entries:\n",
    "#    if isinstance(entry, data.Transaction):\n",
    "#        dtstart = entry.date\n",
    "#        break\n",
    "\n",
    "# Manually set start date, avoids None results\n",
    "dtstart = datetime.date(2015, 1, 1)"
   ]
  },
  {
   "cell_type": "code",
   "execution_count": null,
   "metadata": {},
   "outputs": [],
   "source": [
    "net_worths_dict = collections.defaultdict(list)\n",
    "index = 0\n",
    "current_entries = []\n",
    "dtend = datetime.date.today()\n",
    "#period = rrule.rrule(rrule.WEEKLY, byweekday=rrule.FR, dtstart=dtstart, until=dtend)\n",
    "period = rrule.rrule(rrule.MONTHLY, bymonthday=1, dtstart=dtstart, until=dtend)"
   ]
  },
  {
   "cell_type": "code",
   "execution_count": null,
   "metadata": {},
   "outputs": [],
   "source": [
    "for dtime in period:\n",
    "    date = dtime.date()\n",
    "\n",
    "    # Append new entries until the given date.\n",
    "    while True:\n",
    "        entry = entries[index]\n",
    "        if entry.date >= date:\n",
    "            break\n",
    "        current_entries.append(entry)\n",
    "        index += 1\n",
    "\n",
    "    # Get the list of holdings.\n",
    "    raw_holdings_list, price_map = holdings_reports.get_assets_holdings(current_entries,\n",
    "                                                                        options_map)\n",
    "\n",
    "    # Convert the currencies.\n",
    "    for currency in options_map['operating_currency']:\n",
    "        holdings_list = holdings.convert_to_currency(price_map,\n",
    "                                                     currency,\n",
    "                                                     raw_holdings_list)\n",
    "\n",
    "        holdings_list = holdings.aggregate_holdings_by(\n",
    "            holdings_list, lambda holding: holding.cost_currency)\n",
    "\n",
    "        holdings_list = [holding\n",
    "                         for holding in holdings_list\n",
    "                         if holding.currency and holding.cost_currency]\n",
    "\n",
    "        # If after conversion there are no valid holdings, skip the currency\n",
    "        # altogether.\n",
    "        if not holdings_list:\n",
    "            continue\n",
    "\n",
    "        net_worths_dict[currency].append((date, holdings_list[0].market_value))"
   ]
  },
  {
   "cell_type": "code",
   "execution_count": null,
   "metadata": {},
   "outputs": [],
   "source": [
    "xs, ys = zip(*net_worths_dict['GBP'])\n",
    "plt.plot(xs, ys)\n",
    "plt.show()"
   ]
  },
  {
   "cell_type": "code",
   "execution_count": null,
   "metadata": {
    "scrolled": true
   },
   "outputs": [],
   "source": [
    "#Extract data for c3 text for wiki\n",
    "\n",
    "dates = ['x']\n",
    "for value in xs:\n",
    "    dates.append(value.strftime('%Y-%m-%d'))\n",
    "\n",
    "values = ['Net Worth']\n",
    "for amount in ys:\n",
    "    if amount is None:\n",
    "        amount = 0\n",
    "    values.append(str(round(float(amount))))"
   ]
  },
  {
   "cell_type": "code",
   "execution_count": null,
   "metadata": {
    "scrolled": false
   },
   "outputs": [],
   "source": [
    "# Build text for dokuwiki\n",
    "\n",
    "columns = \"[{}, {}]\".format(dates, values)\n",
    "c3graphs = r\"\"\"\n",
    "<c3>\n",
    "data: {x: 'x', \n",
    "           columns:\"\"\" + columns + r\"\"\"\n",
    "       },\n",
    "    axis: {x: {\n",
    "            type: 'timeseries',\n",
    "            tick: {\n",
    "                format: '%Y-%m-%d'\n",
    "            }\n",
    "        },\n",
    "        y : {\n",
    "             label: {\n",
    "          text: 'GBP',\n",
    "          position: 'outer-middle'\n",
    "        }\n",
    "      }\n",
    "    }\n",
    "</c3>\n",
    "\"\"\"\n",
    "\n",
    "print(c3graphs)"
   ]
  },
  {
   "cell_type": "code",
   "execution_count": null,
   "metadata": {},
   "outputs": [],
   "source": [
    "# Data for spreadsheet\n",
    "d = {'Date': xs, 'Networth': ys}\n",
    "df = pd.DataFrame(data=d)\n",
    "# format\n",
    "df['Date'] = pd.to_datetime(df['Date'])\n",
    "df['Networth'] = pd.to_numeric(df['Networth'])\n",
    "df = df.round(0)\n",
    "df"
   ]
  },
  {
   "cell_type": "code",
   "execution_count": null,
   "metadata": {},
   "outputs": [],
   "source": [
    "#save to csv\n",
    "df.to_csv('/home/alex/finance/networth.csv')"
   ]
  }
 ],
 "metadata": {
  "kernelspec": {
   "display_name": "Python 3",
   "language": "python",
   "name": "python3"
  },
  "language_info": {
   "codemirror_mode": {
    "name": "ipython",
    "version": 3
   },
   "file_extension": ".py",
   "mimetype": "text/x-python",
   "name": "python",
   "nbconvert_exporter": "python",
   "pygments_lexer": "ipython3",
   "version": "3.7.0"
  }
 },
 "nbformat": 4,
 "nbformat_minor": 2
}
