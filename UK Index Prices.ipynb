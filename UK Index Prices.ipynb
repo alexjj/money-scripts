{
 "cells": [
  {
   "cell_type": "code",
   "execution_count": 2,
   "metadata": {},
   "outputs": [],
   "source": [
    "import datetime\n",
    "from selenium import webdriver\n",
    "from time import sleep\n",
    "\n",
    "'''\n",
    "Index fund scraper.\n",
    "\n",
    "This python script will take a list of funds and look up their price from\n",
    "iii.co.uk, then write them to a pricesdb file for ledger-cli's usage.\n",
    "\n",
    "Run cron daily/weekly/monthly\n",
    "\n",
    "python ukfundprices.py\n",
    "'''\n",
    "__author__ = \"Alex Johnstone <alexjj@gmail.com>\"\n",
    "\n",
    "# List of funds to look up.\n",
    "funds = ('FIAAGY',\n",
    "         'VVDVWE',\n",
    "         'VVFUSI',\n",
    "         'MYKAAS',\n",
    "         'VIUKGO',\n",
    "         'VIGSCA',\n",
    "         'VVUILG',\n",
    "         'VVLSRE')\n",
    "\n",
    "# FIAAGY and MYKAAS prices are in p\n",
    "penny_funds = ('FIAAGY', 'MYKAAS')\n",
    "\n",
    "base_url = 'http://www.iii.co.uk/investment/detail?code=mex:'\n",
    "end_url = '&it=ukut'\n",
    "\n",
    "pricedb_file = '/home/alex/finance/prices.beancount'\n",
    "\n",
    "# ledger or beancount\n",
    "\n",
    "program = 'beancount'\n",
    "#program = 'ledger'\n",
    "\n",
    "# Make the ledger string\n",
    "\n",
    "def make_ledger_str(fund, price):\n",
    "    now = datetime.datetime.today()\n",
    "\n",
    "    if program == 'ledger':\n",
    "        timestamp = now.strftime(\"%Y/%m/%d %H:%M:%S\")\n",
    "        string = \"P {} {}                            {} GBP\".format(timestamp, fund, price)\n",
    "    elif program == 'beancount':\n",
    "        timestamp = now.strftime(\"%Y-%m-%d\")\n",
    "        string = \"{} price {}                            {} GBP\".format(timestamp, fund, price)\n",
    "    else:\n",
    "        print(\"Only ledger or beancount\")\n",
    "        quit()\n",
    "    return string\n",
    "\n",
    "\n",
    "def get_prices():\n",
    "    price_list = []\n",
    "    for fund in funds:\n",
    "        browser = webdriver.PhantomJS()\n",
    "        browser.get(base_url + fund + end_url)\n",
    "        price = browser.find_element_by_class_name('price').text\n",
    "        if fund in penny_funds:\n",
    "            price = float(price) / 100\n",
    "        string = make_ledger_str(fund, price)\n",
    "        price_list.append(string)\n",
    "        browser.quit()\n",
    "        sleep(1)  # Kept getting connection refused\n",
    "    return price_list\n",
    "\n",
    "\n",
    "def write_prices(price_list):\n",
    "    with open(pricedb_file, 'a') as text_file:\n",
    "        for string in price_list:\n",
    "            print(string, file=text_file)\n"
   ]
  },
  {
   "cell_type": "code",
   "execution_count": 8,
   "metadata": {
    "collapsed": true
   },
   "outputs": [],
   "source": [
    "browser = webdriver.PhantomJS()\n",
    "site = base_url + 'VVDVWE' + end_url\n",
    "browser.get(site)"
   ]
  },
  {
   "cell_type": "code",
   "execution_count": 9,
   "metadata": {},
   "outputs": [
    {
     "name": "stdout",
     "output_type": "stream",
     "text": [
      "http://www.iii.co.uk/investment/detail?code=mex:VVDVWE&it=ukut\n"
     ]
    }
   ],
   "source": [
    "print (site)\n",
    "price = browser.find_element_by_class_name('price').text"
   ]
  },
  {
   "cell_type": "code",
   "execution_count": 10,
   "metadata": {},
   "outputs": [
    {
     "name": "stdout",
     "output_type": "stream",
     "text": [
      "325.25\n"
     ]
    }
   ],
   "source": [
    "print (price)"
   ]
  }
 ],
 "metadata": {
  "kernelspec": {
   "display_name": "Python 3",
   "language": "python",
   "name": "python3"
  },
  "language_info": {
   "codemirror_mode": {
    "name": "ipython",
    "version": 3
   },
   "file_extension": ".py",
   "mimetype": "text/x-python",
   "name": "python",
   "nbconvert_exporter": "python",
   "pygments_lexer": "ipython3",
   "version": "3.6.2"
  }
 },
 "nbformat": 4,
 "nbformat_minor": 2
}
